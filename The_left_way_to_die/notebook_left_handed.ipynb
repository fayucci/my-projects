{
 "cells": [
  {
   "cell_type": "markdown",
   "metadata": {},
   "source": [
    "# Baye's theorem\n",
    "The probability of dying at a certain age given that you're left-handed is not equal to the probability of being left-handed given that you died at a certain age. \n",
    "According to the theorem \n",
    "\n",
    "<p>$P(A | LH) = \\frac{P(LH|A) P(A)}{P(LH)}$</p>\n",
    "\n",
    "where P(A | LH) is the probability of dying at age A given that you're left-handed, \n",
    "P(LH | A) is the probability that you are left-handed given that you died at age A, \n",
    "P(A) is the overall probability of dying at age A, \n",
    "P(LH) is the overall probability of being left-handed"
   ]
  },
  {
   "cell_type": "code",
   "execution_count": 15,
   "metadata": {},
   "outputs": [],
   "source": [
    "import pandas as pd\n",
    "import numpy as np\n",
    "import matplotlib.pyplot as plt\n",
    "%matplotlib inline"
   ]
  },
  {
   "cell_type": "code",
   "execution_count": 16,
   "metadata": {},
   "outputs": [
    {
     "data": {
      "text/html": [
       "<div>\n",
       "<style scoped>\n",
       "    .dataframe tbody tr th:only-of-type {\n",
       "        vertical-align: middle;\n",
       "    }\n",
       "\n",
       "    .dataframe tbody tr th {\n",
       "        vertical-align: top;\n",
       "    }\n",
       "\n",
       "    .dataframe thead th {\n",
       "        text-align: right;\n",
       "    }\n",
       "</style>\n",
       "<table border=\"1\" class=\"dataframe\">\n",
       "  <thead>\n",
       "    <tr style=\"text-align: right;\">\n",
       "      <th></th>\n",
       "      <th>Age</th>\n",
       "      <th>Male</th>\n",
       "      <th>Female</th>\n",
       "    </tr>\n",
       "  </thead>\n",
       "  <tbody>\n",
       "    <tr>\n",
       "      <th>0</th>\n",
       "      <td>10</td>\n",
       "      <td>12.717558</td>\n",
       "      <td>12.198041</td>\n",
       "    </tr>\n",
       "    <tr>\n",
       "      <th>1</th>\n",
       "      <td>11</td>\n",
       "      <td>15.318830</td>\n",
       "      <td>11.144804</td>\n",
       "    </tr>\n",
       "    <tr>\n",
       "      <th>2</th>\n",
       "      <td>12</td>\n",
       "      <td>14.808281</td>\n",
       "      <td>11.549240</td>\n",
       "    </tr>\n",
       "    <tr>\n",
       "      <th>3</th>\n",
       "      <td>13</td>\n",
       "      <td>13.793744</td>\n",
       "      <td>11.276442</td>\n",
       "    </tr>\n",
       "    <tr>\n",
       "      <th>4</th>\n",
       "      <td>14</td>\n",
       "      <td>15.156304</td>\n",
       "      <td>11.572906</td>\n",
       "    </tr>\n",
       "    <tr>\n",
       "      <th>5</th>\n",
       "      <td>15</td>\n",
       "      <td>14.086186</td>\n",
       "      <td>12.077731</td>\n",
       "    </tr>\n",
       "    <tr>\n",
       "      <th>6</th>\n",
       "      <td>16</td>\n",
       "      <td>14.148993</td>\n",
       "      <td>12.057432</td>\n",
       "    </tr>\n",
       "    <tr>\n",
       "      <th>7</th>\n",
       "      <td>17</td>\n",
       "      <td>14.522524</td>\n",
       "      <td>11.524442</td>\n",
       "    </tr>\n",
       "    <tr>\n",
       "      <th>8</th>\n",
       "      <td>18</td>\n",
       "      <td>14.727009</td>\n",
       "      <td>12.179550</td>\n",
       "    </tr>\n",
       "    <tr>\n",
       "      <th>9</th>\n",
       "      <td>19</td>\n",
       "      <td>15.069371</td>\n",
       "      <td>11.882904</td>\n",
       "    </tr>\n",
       "  </tbody>\n",
       "</table>\n",
       "</div>"
      ],
      "text/plain": [
       "   Age       Male     Female\n",
       "0   10  12.717558  12.198041\n",
       "1   11  15.318830  11.144804\n",
       "2   12  14.808281  11.549240\n",
       "3   13  13.793744  11.276442\n",
       "4   14  15.156304  11.572906\n",
       "5   15  14.086186  12.077731\n",
       "6   16  14.148993  12.057432\n",
       "7   17  14.522524  11.524442\n",
       "8   18  14.727009  12.179550\n",
       "9   19  15.069371  11.882904"
      ]
     },
     "metadata": {},
     "output_type": "display_data"
    },
    {
     "data": {
      "text/plain": [
       "Text(0, 0.5, 'Genders')"
      ]
     },
     "execution_count": 16,
     "metadata": {},
     "output_type": "execute_result"
    },
    {
     "data": {
      "image/png": "[encoded data removed]",
      "text/plain": [
       "<Figure size 432x288 with 1 Axes>"
      ]
     },
     "metadata": {
      "needs_background": "light"
     },
     "output_type": "display_data"
    }
   ],
   "source": [
    "data_url_1 = \"https://gist.githubusercontent.com/mbonsma/8da0990b71ba9a09f7de395574e54df1/raw/aec88b30af87fad8d45da7e774223f91dad09e88/lh_data.csv\"\n",
    "lefthanded_data = pd.read_csv(data_url_1)\n",
    "\n",
    "display(lefthanded_data.head(10))\n",
    "\n",
    "fig, ax = plt.subplots()\n",
    "ax.plot('Age', 'Female', data=lefthanded_data, marker = 'o')\n",
    "ax.plot('Age', 'Male', data=lefthanded_data, marker = 'x')\n",
    "ax.legend()\n",
    "ax.set_xlabel('Age')\n",
    "ax.set_ylabel('Genders')"
   ]
  },
  {
   "cell_type": "code",
   "execution_count": 17,
   "metadata": {},
   "outputs": [
    {
     "data": {
      "text/html": [
       "<div>\n",
       "<style scoped>\n",
       "    .dataframe tbody tr th:only-of-type {\n",
       "        vertical-align: middle;\n",
       "    }\n",
       "\n",
       "    .dataframe tbody tr th {\n",
       "        vertical-align: top;\n",
       "    }\n",
       "\n",
       "    .dataframe thead th {\n",
       "        text-align: right;\n",
       "    }\n",
       "</style>\n",
       "<table border=\"1\" class=\"dataframe\">\n",
       "  <thead>\n",
       "    <tr style=\"text-align: right;\">\n",
       "      <th></th>\n",
       "      <th>Age</th>\n",
       "      <th>Male</th>\n",
       "      <th>Female</th>\n",
       "      <th>Birth_year</th>\n",
       "      <th>Mean_lh</th>\n",
       "    </tr>\n",
       "  </thead>\n",
       "  <tbody>\n",
       "    <tr>\n",
       "      <th>0</th>\n",
       "      <td>10</td>\n",
       "      <td>12.717558</td>\n",
       "      <td>12.198041</td>\n",
       "      <td>1976</td>\n",
       "      <td>12.457800</td>\n",
       "    </tr>\n",
       "    <tr>\n",
       "      <th>1</th>\n",
       "      <td>11</td>\n",
       "      <td>15.318830</td>\n",
       "      <td>11.144804</td>\n",
       "      <td>1975</td>\n",
       "      <td>13.231817</td>\n",
       "    </tr>\n",
       "    <tr>\n",
       "      <th>2</th>\n",
       "      <td>12</td>\n",
       "      <td>14.808281</td>\n",
       "      <td>11.549240</td>\n",
       "      <td>1974</td>\n",
       "      <td>13.178760</td>\n",
       "    </tr>\n",
       "    <tr>\n",
       "      <th>3</th>\n",
       "      <td>13</td>\n",
       "      <td>13.793744</td>\n",
       "      <td>11.276442</td>\n",
       "      <td>1973</td>\n",
       "      <td>12.535093</td>\n",
       "    </tr>\n",
       "    <tr>\n",
       "      <th>4</th>\n",
       "      <td>14</td>\n",
       "      <td>15.156304</td>\n",
       "      <td>11.572906</td>\n",
       "      <td>1972</td>\n",
       "      <td>13.364605</td>\n",
       "    </tr>\n",
       "    <tr>\n",
       "      <th>5</th>\n",
       "      <td>15</td>\n",
       "      <td>14.086186</td>\n",
       "      <td>12.077731</td>\n",
       "      <td>1971</td>\n",
       "      <td>13.081958</td>\n",
       "    </tr>\n",
       "    <tr>\n",
       "      <th>6</th>\n",
       "      <td>16</td>\n",
       "      <td>14.148993</td>\n",
       "      <td>12.057432</td>\n",
       "      <td>1970</td>\n",
       "      <td>13.103212</td>\n",
       "    </tr>\n",
       "    <tr>\n",
       "      <th>7</th>\n",
       "      <td>17</td>\n",
       "      <td>14.522524</td>\n",
       "      <td>11.524442</td>\n",
       "      <td>1969</td>\n",
       "      <td>13.023483</td>\n",
       "    </tr>\n",
       "    <tr>\n",
       "      <th>8</th>\n",
       "      <td>18</td>\n",
       "      <td>14.727009</td>\n",
       "      <td>12.179550</td>\n",
       "      <td>1968</td>\n",
       "      <td>13.453279</td>\n",
       "    </tr>\n",
       "    <tr>\n",
       "      <th>9</th>\n",
       "      <td>19</td>\n",
       "      <td>15.069371</td>\n",
       "      <td>11.882904</td>\n",
       "      <td>1967</td>\n",
       "      <td>13.476138</td>\n",
       "    </tr>\n",
       "  </tbody>\n",
       "</table>\n",
       "</div>"
      ],
      "text/plain": [
       "   Age       Male     Female  Birth_year    Mean_lh\n",
       "0   10  12.717558  12.198041        1976  12.457800\n",
       "1   11  15.318830  11.144804        1975  13.231817\n",
       "2   12  14.808281  11.549240        1974  13.178760\n",
       "3   13  13.793744  11.276442        1973  12.535093\n",
       "4   14  15.156304  11.572906        1972  13.364605\n",
       "5   15  14.086186  12.077731        1971  13.081958\n",
       "6   16  14.148993  12.057432        1970  13.103212\n",
       "7   17  14.522524  11.524442        1969  13.023483\n",
       "8   18  14.727009  12.179550        1968  13.453279\n",
       "9   19  15.069371  11.882904        1967  13.476138"
      ]
     },
     "metadata": {},
     "output_type": "display_data"
    },
    {
     "data": {
      "text/plain": [
       "Text(0, 0.5, 'Mean_lh')"
      ]
     },
     "execution_count": 17,
     "metadata": {},
     "output_type": "execute_result"
    },
    {
     "data": {
      "image/png": "[encoded data removed]",
      "text/plain": [
       "<Figure size 432x288 with 1 Axes>"
      ]
     },
     "metadata": {
      "needs_background": "light"
     },
     "output_type": "display_data"
    }
   ],
   "source": [
    "lefthanded_data['Birth_year'] = 1986 - lefthanded_data['Age']\n",
    "lefthanded_data['Mean_lh'] = lefthanded_data[['Male', 'Female']].mean(axis=1)\n",
    "\n",
    "display(lefthanded_data.head(10))\n",
    "\n",
    "fig, ax = plt.subplots()\n",
    "ax.plot('Birth_year', 'Mean_lh', data = lefthanded_data)\n",
    "ax.set_title('Mean_lh vs. Birth_year')\n",
    "ax.set_xlabel('Birth_year')\n",
    "ax.set_ylabel('Mean_lh')"
   ]
  },
  {
   "cell_type": "code",
   "execution_count": 18,
   "metadata": {},
   "outputs": [],
   "source": [
    "def P_lh_given_A(ages_of_death, study_year = 1990):\n",
    "    \"\"\" P(Left-handed | ages of death), calculated based on the reported rates of left-handedness.\n",
    "    Inputs: numpy array of ages of death, study_year\n",
    "    Returns: probability of left-handedness given that subjects died in `study_year` at ages `ages_of_death` \"\"\"\n",
    "    \n",
    "    early_1900s_rate = lefthanded_data['Mean_lh'][-10:].mean()\n",
    "    late_1900s_rate = lefthanded_data['Mean_lh'][:10].mean()\n",
    "    middle_rates = lefthanded_data[lefthanded_data['Birth_year'].isin(study_year - ages_of_death)]['Mean_lh']\n",
    "    \n",
    "    youngest_age = study_year - 1986 + 10 \n",
    "    oldest_age = study_year - 1986 + 86 \n",
    "    \n",
    "    P_return = np.zeros(ages_of_death.shape)\n",
    "    P_return[ages_of_death > oldest_age] = early_1900s_rate / 100\n",
    "    P_return[ages_of_death < youngest_age] = late_1900s_rate / 100\n",
    "    filter = np.logical_and((ages_of_death <= oldest_age), (ages_of_death >= youngest_age))\n",
    "    P_return[filter] = middle_rates / 100\n",
    "    \n",
    "    return P_return"
   ]
  },
  {
   "cell_type": "code",
   "execution_count": 19,
   "metadata": {},
   "outputs": [
    {
     "data": {
      "text/html": [
       "<div>\n",
       "<style scoped>\n",
       "    .dataframe tbody tr th:only-of-type {\n",
       "        vertical-align: middle;\n",
       "    }\n",
       "\n",
       "    .dataframe tbody tr th {\n",
       "        vertical-align: top;\n",
       "    }\n",
       "\n",
       "    .dataframe thead th {\n",
       "        text-align: right;\n",
       "    }\n",
       "</style>\n",
       "<table border=\"1\" class=\"dataframe\">\n",
       "  <thead>\n",
       "    <tr style=\"text-align: right;\">\n",
       "      <th></th>\n",
       "      <th>Age</th>\n",
       "      <th>Both Sexes</th>\n",
       "      <th>Male</th>\n",
       "      <th>Female</th>\n",
       "    </tr>\n",
       "  </thead>\n",
       "  <tbody>\n",
       "    <tr>\n",
       "      <th>0</th>\n",
       "      <td>0</td>\n",
       "      <td>27937.0</td>\n",
       "      <td>15646.0</td>\n",
       "      <td>12291.0</td>\n",
       "    </tr>\n",
       "    <tr>\n",
       "      <th>1</th>\n",
       "      <td>1</td>\n",
       "      <td>1989.0</td>\n",
       "      <td>1103.0</td>\n",
       "      <td>886.0</td>\n",
       "    </tr>\n",
       "    <tr>\n",
       "      <th>2</th>\n",
       "      <td>2</td>\n",
       "      <td>1376.0</td>\n",
       "      <td>797.0</td>\n",
       "      <td>579.0</td>\n",
       "    </tr>\n",
       "    <tr>\n",
       "      <th>3</th>\n",
       "      <td>3</td>\n",
       "      <td>1046.0</td>\n",
       "      <td>601.0</td>\n",
       "      <td>445.0</td>\n",
       "    </tr>\n",
       "    <tr>\n",
       "      <th>4</th>\n",
       "      <td>4</td>\n",
       "      <td>838.0</td>\n",
       "      <td>474.0</td>\n",
       "      <td>364.0</td>\n",
       "    </tr>\n",
       "    <tr>\n",
       "      <th>5</th>\n",
       "      <td>5</td>\n",
       "      <td>763.0</td>\n",
       "      <td>446.0</td>\n",
       "      <td>317.0</td>\n",
       "    </tr>\n",
       "    <tr>\n",
       "      <th>6</th>\n",
       "      <td>6</td>\n",
       "      <td>696.0</td>\n",
       "      <td>384.0</td>\n",
       "      <td>312.0</td>\n",
       "    </tr>\n",
       "    <tr>\n",
       "      <th>7</th>\n",
       "      <td>7</td>\n",
       "      <td>683.0</td>\n",
       "      <td>386.0</td>\n",
       "      <td>297.0</td>\n",
       "    </tr>\n",
       "    <tr>\n",
       "      <th>8</th>\n",
       "      <td>8</td>\n",
       "      <td>692.0</td>\n",
       "      <td>389.0</td>\n",
       "      <td>303.0</td>\n",
       "    </tr>\n",
       "    <tr>\n",
       "      <th>9</th>\n",
       "      <td>9</td>\n",
       "      <td>640.0</td>\n",
       "      <td>359.0</td>\n",
       "      <td>281.0</td>\n",
       "    </tr>\n",
       "  </tbody>\n",
       "</table>\n",
       "</div>"
      ],
      "text/plain": [
       "   Age  Both Sexes     Male   Female\n",
       "0    0     27937.0  15646.0  12291.0\n",
       "1    1      1989.0   1103.0    886.0\n",
       "2    2      1376.0    797.0    579.0\n",
       "3    3      1046.0    601.0    445.0\n",
       "4    4       838.0    474.0    364.0\n",
       "5    5       763.0    446.0    317.0\n",
       "6    6       696.0    384.0    312.0\n",
       "7    7       683.0    386.0    297.0\n",
       "8    8       692.0    389.0    303.0\n",
       "9    9       640.0    359.0    281.0"
      ]
     },
     "metadata": {},
     "output_type": "display_data"
    },
    {
     "data": {
      "text/plain": [
       "Text(0, 0.5, 'BOTH SEXES')"
      ]
     },
     "execution_count": 19,
     "metadata": {},
     "output_type": "execute_result"
    },
    {
     "data": {
      "image/png": "[encoded data removed]",
      "text/plain": [
       "<Figure size 432x288 with 1 Axes>"
      ]
     },
     "metadata": {
      "needs_background": "light"
     },
     "output_type": "display_data"
    }
   ],
   "source": [
    "data_url_2 = \"https://gist.githubusercontent.com/mbonsma/2f4076aab6820ca1807f4e29f75f18ec/raw/62f3ec07514c7e31f5979beeca86f19991540796/cdc_vs00199_table310.tsv\"\n",
    "death_distribution_data = pd.read_csv(data_url_2, sep = '\\t', skiprows=[1])\n",
    "death_distribution_data = death_distribution_data.dropna(subset = [\"Both Sexes\"])\n",
    "\n",
    "display(death_distribution_data.head(10))\n",
    "\n",
    "fig, ax = plt.subplots()\n",
    "ax.plot(\"Age\", \"Both Sexes\", data = death_distribution_data, marker='o')\n",
    "ax.set_xlabel(\"age\") \n",
    "ax.set_ylabel(\"BOTH SEXES\")"
   ]
  },
  {
   "cell_type": "code",
   "execution_count": 20,
   "metadata": {},
   "outputs": [
    {
     "name": "stdout",
     "output_type": "stream",
     "text": [
      "0.07766387615350638\n"
     ]
    }
   ],
   "source": [
    "def P_lh(death_distribution_data, study_year = 1990): # sum over P_lh for each age group\n",
    "    \"\"\" Overall probability of being left-handed if you died in the study year\n",
    "    Input: dataframe of death distribution data, study year\n",
    "    Output: P(LH), a single floating point number \"\"\"\n",
    "    \n",
    "    p_list = death_distribution_data['Both Sexes'] *  P_lh_given_A(death_distribution_data['Age'], study_year)\n",
    "    p = np.sum(p_list)\n",
    "    return p / np.sum(death_distribution_data['Both Sexes'])\n",
    "\n",
    "print(P_lh(death_distribution_data))"
   ]
  },
  {
   "cell_type": "code",
   "execution_count": 21,
   "metadata": {},
   "outputs": [],
   "source": [
    "def P_A_given_lh(ages_of_death, death_distribution_data, study_year = 1990):\n",
    "    \"\"\" The overall probability of being a particular `age_of_death` given that you're left-handed \"\"\"\n",
    "    \n",
    "    P_A = death_distribution_data['Both Sexes'][ages_of_death] / np.sum(death_distribution_data['Both Sexes'])\n",
    "    P_left = P_lh(death_distribution_data, study_year) \n",
    "    P_lh_A = P_lh_given_A(ages_of_death, study_year) \n",
    "    return P_lh_A*P_A/P_left"
   ]
  },
  {
   "cell_type": "code",
   "execution_count": 22,
   "metadata": {},
   "outputs": [],
   "source": [
    "def P_A_given_rh(ages_of_death, death_distribution_data, study_year = 1990):\n",
    "    \"\"\" The overall probability of being a particular `age_of_death` given that you're right-handed \"\"\"\n",
    "    \n",
    "    P_A = death_distribution_data['Both Sexes'][ages_of_death] / np.sum(death_distribution_data['Both Sexes'])\n",
    "    P_right = 1 - P_lh(death_distribution_data, study_year) \n",
    "    P_rh_A = 1 -  P_lh_given_A(ages_of_death, study_year) \n",
    "    return P_rh_A*P_A/P_right"
   ]
  },
  {
   "cell_type": "code",
   "execution_count": 25,
   "metadata": {},
   "outputs": [
    {
     "data": {
      "text/plain": [
       "Text(0, 0.5, 'Probability of being age A at death')"
      ]
     },
     "execution_count": 25,
     "metadata": {},
     "output_type": "execute_result"
    },
    {
     "data": {
      "image/png": "[encoded data removed]",
      "text/plain": [
       "<Figure size 432x288 with 1 Axes>"
      ]
     },
     "metadata": {
      "needs_background": "light"
     },
     "output_type": "display_data"
    }
   ],
   "source": [
    "ages = np.arange(6, 115, 1)\n",
    "\n",
    "left_handed_probability = P_A_given_lh(ages, death_distribution_data, study_year=1990)\n",
    "right_handed_probability = P_A_given_rh(ages, death_distribution_data, study_year=1990)\n",
    "\n",
    "fig, ax = plt.subplots() \n",
    "ax.plot(ages, left_handed_probability, label = \"Left-handed\")\n",
    "ax.plot(ages, right_handed_probability, label = \"Right-handed\")\n",
    "ax.legend() \n",
    "ax.set_xlabel(\"Age at death\")\n",
    "ax.set_ylabel(r\"Probability of being age A at death\")"
   ]
  },
  {
   "cell_type": "code",
   "execution_count": 26,
   "metadata": {},
   "outputs": [
    {
     "name": "stdout",
     "output_type": "stream",
     "text": [
      "67.24503662801027\n",
      "72.79171936526477\n",
      "The difference in average ages is -5.5 years.\n"
     ]
    }
   ],
   "source": [
    "average_lh_age =  np.nansum(ages*np.array(left_handed_probability))\n",
    "average_rh_age =  np.nansum(ages*np.array(right_handed_probability))\n",
    "\n",
    "print(average_lh_age)\n",
    "print(average_rh_age)\n",
    "print(\"The difference in average ages is \" + str(round(average_lh_age - average_rh_age, 1)) + \" years.\")"
   ]
  },
  {
   "cell_type": "code",
   "execution_count": 27,
   "metadata": {},
   "outputs": [
    {
     "name": "stdout",
     "output_type": "stream",
     "text": [
      "The difference in average ages is 2.3 years.\n"
     ]
    }
   ],
   "source": [
    "left_handed_probability_2018 = P_A_given_lh(ages, death_distribution_data, study_year=2018)\n",
    "right_handed_probability_2018 = P_A_given_rh(ages, death_distribution_data, study_year=2018)\n",
    "\n",
    "average_lh_age_2018 = np.nansum(ages*np.array(left_handed_probability_2018))\n",
    "average_rh_age_2018 = np.nansum(ages*np.array(right_handed_probability_2018))\n",
    "\n",
    "print(\"The difference in average ages is \" + str(round(average_rh_age_2018 - average_lh_age_2018, 1)) + \" years.\")"
   ]
  },
  {
   "cell_type": "markdown",
   "metadata": {},
   "source": [
    "# Final thoughts\n",
    "\n",
    "When calculated the gap in 2018 this turns out to be much smaller since rates of left-handedness haven't increased for people born after about 1960. Both the National Geographic study and the 1990 study happened at a unique time - the rates of left-handedness had been changing across the lifetimes of most people alive, and the difference in handedness between old and young was at its most striking. \n",
    "which is good news for left-handers: you probably won't die young because of your sinisterness."
   ]
  }
 ],
 "metadata": {
  "kernelspec": {
   "display_name": "Python 3",
   "language": "python",
   "name": "python3"
  },
  "language_info": {
   "codemirror_mode": {
    "name": "ipython",
    "version": 3
   },
   "file_extension": ".py",
   "mimetype": "text/x-python",
   "name": "python",
   "nbconvert_exporter": "python",
   "pygments_lexer": "ipython3",
   "version": "3.8.2"
  }
 },
 "nbformat": 4,
 "nbformat_minor": 4
}
